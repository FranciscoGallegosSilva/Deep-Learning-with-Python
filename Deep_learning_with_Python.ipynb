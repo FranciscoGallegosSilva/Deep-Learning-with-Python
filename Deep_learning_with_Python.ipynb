{
  "nbformat": 4,
  "nbformat_minor": 0,
  "metadata": {
    "colab": {
      "name": "Deep learning with Python.ipynb",
      "provenance": [],
      "authorship_tag": "ABX9TyOIaE69difCccSamiz2agL3",
      "include_colab_link": true
    },
    "kernelspec": {
      "name": "python3",
      "display_name": "Python 3"
    },
    "language_info": {
      "name": "python"
    }
  },
  "cells": [
    {
      "cell_type": "markdown",
      "metadata": {
        "id": "view-in-github",
        "colab_type": "text"
      },
      "source": [
        "<a href=\"https://colab.research.google.com/github/FranciscoGallegosSilva/FranciscoGallegosSilva/blob/main/Deep_learning_with_Python.ipynb\" target=\"_parent\"><img src=\"https://colab.research.google.com/assets/colab-badge.svg\" alt=\"Open In Colab\"/></a>"
      ]
    },
    {
      "cell_type": "markdown",
      "metadata": {
        "id": "NFoMcRdSIa6H"
      },
      "source": [
        "**Chapter 2:** *The mathematical building blocks of\n",
        "neural networks*"
      ]
    },
    {
      "cell_type": "markdown",
      "metadata": {
        "id": "M-rIraN2Tgd1"
      },
      "source": [
        "2.1 A first look at a neural network"
      ]
    },
    {
      "cell_type": "code",
      "metadata": {
        "id": "0VvT4W_Wmxyx"
      },
      "source": [
        "import numpy as np\n",
        "import tensorflow as tf\n",
        "from tensorflow import keras"
      ],
      "execution_count": 1,
      "outputs": []
    },
    {
      "cell_type": "code",
      "metadata": {
        "colab": {
          "base_uri": "https://localhost:8080/"
        },
        "id": "FwN51faXnMN6",
        "outputId": "59f8eba3-c22a-47fa-e9d8-12b2830e99ba"
      },
      "source": [
        "# 2.1.1 Loading the MNIST dataset in Keras (handwritten digits)\n",
        "from keras.datasets import mnist\n",
        "(train_images, train_labels), (test_images, test_labels) = mnist.load_data()"
      ],
      "execution_count": 2,
      "outputs": [
        {
          "output_type": "stream",
          "text": [
            "Downloading data from https://storage.googleapis.com/tensorflow/tf-keras-datasets/mnist.npz\n",
            "11493376/11490434 [==============================] - 0s 0us/step\n",
            "11501568/11490434 [==============================] - 0s 0us/step\n"
          ],
          "name": "stdout"
        }
      ]
    },
    {
      "cell_type": "code",
      "metadata": {
        "colab": {
          "base_uri": "https://localhost:8080/"
        },
        "id": "jbb7xFeAoMui",
        "outputId": "7f015556-3df2-4d30-fd46-7ae00e11e535"
      },
      "source": [
        "# Train & Test shape\n",
        "print(train_images.shape, test_images.shape)\n",
        "print(len(train_labels), len(test_labels))\n",
        "print(np.unique(train_labels), np.unique(test_labels))"
      ],
      "execution_count": 7,
      "outputs": [
        {
          "output_type": "stream",
          "text": [
            "(60000, 28, 28) (10000, 28, 28)\n",
            "60000 10000\n",
            "[0 1 2 3 4 5 6 7 8 9] [0 1 2 3 4 5 6 7 8 9]\n"
          ],
          "name": "stdout"
        }
      ]
    },
    {
      "cell_type": "markdown",
      "metadata": {
        "id": "p4_CKhFmIVji"
      },
      "source": [
        ""
      ]
    },
    {
      "cell_type": "code",
      "metadata": {
        "id": "zCPnyNGoGpYR"
      },
      "source": [
        "# 2.1.2 The network architecture\n",
        "from tensorflow.keras import models\n",
        "from tensorflow.keras import layers\n",
        "model = models.Sequential([\n",
        "layers.Dense(512, activation=\"relu\"),\n",
        "layers.Dense(10, activation=\"softmax\")\n",
        "])"
      ],
      "execution_count": 8,
      "outputs": []
    },
    {
      "cell_type": "code",
      "metadata": {
        "id": "ssTw5pN-HZYj"
      },
      "source": [
        "# 2.1.3 The compilation step\n",
        "model.compile(optimizer=\"rmsprop\",\n",
        "loss=\"sparse_categorical_crossentropy\",\n",
        "metrics=[\"accuracy\"])"
      ],
      "execution_count": 9,
      "outputs": []
    },
    {
      "cell_type": "code",
      "metadata": {
        "id": "gE9u7auIJIR9"
      },
      "source": [
        "#2.1.4 Preparing the image data\n",
        "train_images = train_images.reshape((60000, 28 * 28))\n",
        "train_images = train_images.astype(\"float32\") / 255\n",
        "test_images = test_images.reshape((10000, 28 * 28))\n",
        "test_images = test_images.astype(\"float32\") / 255"
      ],
      "execution_count": 10,
      "outputs": []
    },
    {
      "cell_type": "code",
      "metadata": {
        "colab": {
          "base_uri": "https://localhost:8080/"
        },
        "id": "fjMROhJQJkPX",
        "outputId": "8ba95224-2b08-4364-8611-2ead53cb14b9"
      },
      "source": [
        "#2.1.5 \"Fitting\" the model\n",
        "model.fit(train_images, train_labels, epochs=5, batch_size=128)"
      ],
      "execution_count": 11,
      "outputs": [
        {
          "output_type": "stream",
          "text": [
            "Epoch 1/5\n",
            "469/469 [==============================] - 5s 10ms/step - loss: 0.2518 - accuracy: 0.9273\n",
            "Epoch 2/5\n",
            "469/469 [==============================] - 4s 10ms/step - loss: 0.1030 - accuracy: 0.9693\n",
            "Epoch 3/5\n",
            "469/469 [==============================] - 4s 10ms/step - loss: 0.0680 - accuracy: 0.9792\n",
            "Epoch 4/5\n",
            "469/469 [==============================] - 5s 10ms/step - loss: 0.0495 - accuracy: 0.9848\n",
            "Epoch 5/5\n",
            "469/469 [==============================] - 4s 10ms/step - loss: 0.0375 - accuracy: 0.9888\n"
          ],
          "name": "stdout"
        },
        {
          "output_type": "execute_result",
          "data": {
            "text/plain": [
              "<tensorflow.python.keras.callbacks.History at 0x7f217f234390>"
            ]
          },
          "metadata": {
            "tags": []
          },
          "execution_count": 11
        }
      ]
    },
    {
      "cell_type": "code",
      "metadata": {
        "colab": {
          "base_uri": "https://localhost:8080/"
        },
        "id": "szzQUyp_J6vX",
        "outputId": "2c31e6ee-bdd5-42cd-8b54-7b6e5bdc800d"
      },
      "source": [
        "#2.1.6 Using the model to make predictions\n",
        "test_digits = test_images[0:10]\n",
        "predictions = model.predict(test_digits)\n",
        "predictions[0] #Each number of index in that array corresponds to the probability i that digit imagetest_digits[0] belong to class i."
      ],
      "execution_count": 12,
      "outputs": [
        {
          "output_type": "execute_result",
          "data": {
            "text/plain": [
              "array([4.1526438e-10, 1.3223322e-10, 1.3872458e-06, 2.9845824e-05,\n",
              "       8.1904714e-13, 9.1709706e-09, 3.6591959e-15, 9.9996793e-01,\n",
              "       1.6748153e-07, 6.9859487e-07], dtype=float32)"
            ]
          },
          "metadata": {
            "tags": []
          },
          "execution_count": 12
        }
      ]
    },
    {
      "cell_type": "code",
      "metadata": {
        "colab": {
          "base_uri": "https://localhost:8080/"
        },
        "id": "upoPRM8CKo5X",
        "outputId": "ede6aee5-0493-4b95-ac32-ec3c099a9aa7"
      },
      "source": [
        "print(predictions[0].argmax()) #Highest probability score position\n",
        "print(predictions[0][7]) #Probability score of number 7\n",
        "print(test_labels[7]) #Check label in 7th position"
      ],
      "execution_count": 18,
      "outputs": [
        {
          "output_type": "stream",
          "text": [
            "7\n",
            "0.99996793\n",
            "9\n"
          ],
          "name": "stdout"
        }
      ]
    },
    {
      "cell_type": "code",
      "metadata": {
        "colab": {
          "base_uri": "https://localhost:8080/"
        },
        "id": "igYuweuLMRPn",
        "outputId": "82a51d73-e68f-4c02-987e-709f479fe933"
      },
      "source": [
        "# 2.1.7 Evaluating the model on new data\n",
        "test_loss, test_acc = model.evaluate(test_images, test_labels)\n",
        "print(f\"test_acc: {round(test_acc,4)}\") "
      ],
      "execution_count": 23,
      "outputs": [
        {
          "output_type": "stream",
          "text": [
            "313/313 [==============================] - 1s 2ms/step - loss: 0.0665 - accuracy: 0.9795\n",
            "test_acc: 0.9795\n"
          ],
          "name": "stdout"
        }
      ]
    },
    {
      "cell_type": "markdown",
      "metadata": {
        "id": "hQLTV_XQT9eo"
      },
      "source": [
        "2.2 Data representations for neural networks"
      ]
    },
    {
      "cell_type": "markdown",
      "metadata": {
        "id": "wWZb9lE4UHHH"
      },
      "source": [
        "Data stored in multidimensinoal NumPy arrays are called tensors. Tensor is a container for data (usually numerical data). Tensors are a generalization of matrices to an arbitrary number of dimensions -*axis*"
      ]
    },
    {
      "cell_type": "code",
      "metadata": {
        "colab": {
          "base_uri": "https://localhost:8080/"
        },
        "id": "Rl66yeytSTEU",
        "outputId": "199855c2-1819-4bf7-ecac-3655ccfa35c5"
      },
      "source": [
        "#2.2.1 Scarlars (rank-0 tensors)\n",
        "x = np.array(12)\n",
        "x.ndim"
      ],
      "execution_count": 24,
      "outputs": [
        {
          "output_type": "execute_result",
          "data": {
            "text/plain": [
              "0"
            ]
          },
          "metadata": {
            "tags": []
          },
          "execution_count": 24
        }
      ]
    },
    {
      "cell_type": "code",
      "metadata": {
        "colab": {
          "base_uri": "https://localhost:8080/"
        },
        "id": "PO2-v10IWk4A",
        "outputId": "fcec6143-f800-46ae-c826-b6452dd4e173"
      },
      "source": [
        "#2.2.2 Vectors (rank-1 tensors)\n",
        "x = np.array([12, 3, 6, 14, 7]) #5-dimensional vector\n",
        "x.ndim"
      ],
      "execution_count": 25,
      "outputs": [
        {
          "output_type": "execute_result",
          "data": {
            "text/plain": [
              "1"
            ]
          },
          "metadata": {
            "tags": []
          },
          "execution_count": 25
        }
      ]
    },
    {
      "cell_type": "code",
      "metadata": {
        "colab": {
          "base_uri": "https://localhost:8080/"
        },
        "id": "YSenNYG7W2G3",
        "outputId": "bf93c725-8e44-4b65-e65d-4fe839b3de1d"
      },
      "source": [
        "#2.2.3 Matrices (rank-2 tensors)\n",
        "x = np.array([[5, 78, 2, 34, 0],\n",
        "              [6, 79, 3, 35, 1],\n",
        "              [7, 80, 4, 36, 2]])\n",
        "x.ndim"
      ],
      "execution_count": 27,
      "outputs": [
        {
          "output_type": "execute_result",
          "data": {
            "text/plain": [
              "2"
            ]
          },
          "metadata": {
            "tags": []
          },
          "execution_count": 27
        }
      ]
    },
    {
      "cell_type": "code",
      "metadata": {
        "id": "DD8rkSPObw0p"
      },
      "source": [
        ""
      ],
      "execution_count": null,
      "outputs": []
    }
  ]
}