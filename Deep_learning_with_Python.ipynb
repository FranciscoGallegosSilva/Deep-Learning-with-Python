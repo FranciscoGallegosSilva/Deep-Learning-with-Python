{
  "nbformat": 4,
  "nbformat_minor": 0,
  "metadata": {
    "colab": {
      "name": "Deep learning with Python.ipynb",
      "provenance": [],
      "collapsed_sections": [],
      "authorship_tag": "ABX9TyOyvkcLHFH/FrZqoN0AXPdz",
      "include_colab_link": true
    },
    "kernelspec": {
      "name": "python3",
      "display_name": "Python 3"
    },
    "language_info": {
      "name": "python"
    }
  },
  "cells": [
    {
      "cell_type": "markdown",
      "metadata": {
        "id": "view-in-github",
        "colab_type": "text"
      },
      "source": [
        "<a href=\"https://colab.research.google.com/github/FranciscoGallegosSilva/Deep-Learning-with-Python/blob/main/Deep_learning_with_Python.ipynb\" target=\"_parent\"><img src=\"https://colab.research.google.com/assets/colab-badge.svg\" alt=\"Open In Colab\"/></a>"
      ]
    },
    {
      "cell_type": "markdown",
      "metadata": {
        "id": "NFoMcRdSIa6H"
      },
      "source": [
        "**Chapter 2:** *The mathematical building blocks of\n",
        "neural networks*"
      ]
    },
    {
      "cell_type": "markdown",
      "metadata": {
        "id": "M-rIraN2Tgd1"
      },
      "source": [
        "2.1 A first look at a neural network"
      ]
    },
    {
      "cell_type": "code",
      "metadata": {
        "id": "0VvT4W_Wmxyx"
      },
      "source": [
        "import numpy as np\n",
        "import tensorflow as tf\n",
        "from tensorflow import keras"
      ],
      "execution_count": null,
      "outputs": []
    },
    {
      "cell_type": "code",
      "metadata": {
        "colab": {
          "base_uri": "https://localhost:8080/"
        },
        "id": "FwN51faXnMN6",
        "outputId": "59f8eba3-c22a-47fa-e9d8-12b2830e99ba"
      },
      "source": [
        "# 2.1.1 Loading the MNIST dataset in Keras (handwritten digits)\n",
        "from keras.datasets import mnist\n",
        "(train_images, train_labels), (test_images, test_labels) = mnist.load_data()"
      ],
      "execution_count": null,
      "outputs": [
        {
          "output_type": "stream",
          "text": [
            "Downloading data from https://storage.googleapis.com/tensorflow/tf-keras-datasets/mnist.npz\n",
            "11493376/11490434 [==============================] - 0s 0us/step\n",
            "11501568/11490434 [==============================] - 0s 0us/step\n"
          ],
          "name": "stdout"
        }
      ]
    },
    {
      "cell_type": "code",
      "metadata": {
        "colab": {
          "base_uri": "https://localhost:8080/"
        },
        "id": "jbb7xFeAoMui",
        "outputId": "7f015556-3df2-4d30-fd46-7ae00e11e535"
      },
      "source": [
        "# Train & Test shape\n",
        "print(train_images.shape, test_images.shape)\n",
        "print(len(train_labels), len(test_labels))\n",
        "print(np.unique(train_labels), np.unique(test_labels))"
      ],
      "execution_count": null,
      "outputs": [
        {
          "output_type": "stream",
          "text": [
            "(60000, 28, 28) (10000, 28, 28)\n",
            "60000 10000\n",
            "[0 1 2 3 4 5 6 7 8 9] [0 1 2 3 4 5 6 7 8 9]\n"
          ],
          "name": "stdout"
        }
      ]
    },
    {
      "cell_type": "code",
      "metadata": {
        "colab": {
          "base_uri": "https://localhost:8080/",
          "height": 162
        },
        "id": "k1RsMpLikifr",
        "outputId": "7c5a113b-1eea-4fc8-8650-006968b674a4"
      },
      "source": [
        "import matplotlib.pyplot as plt\n",
        "fig, (ax1, ax2, ax3) = plt.subplots(nrows=1, ncols=3)\n",
        "\n",
        "# show each image, and make each title the label\n",
        "# these are grayscale images so use appropriate heatmap\n",
        "ax1.imshow(train_images[4701], cmap=plt.get_cmap('gray'))\n",
        "ax1.set_title(str(train_labels[4701]))\n",
        "ax2.imshow(train_images[4702], cmap=plt.get_cmap('gray'))\n",
        "ax2.set_title(str(train_labels[4702]))\n",
        "ax3.imshow(train_images[4703], cmap=plt.get_cmap('gray'))\n",
        "ax3.set_title(str(train_labels[4703]))\n",
        "\n",
        "fig.show()"
      ],
      "execution_count": null,
      "outputs": [
        {
          "output_type": "display_data",
          "data": {
            "image/png": "[encoded data removed]",
            "text/plain": [
              "<Figure size 432x288 with 3 Axes>"
            ]
          },
          "metadata": {
            "tags": [],
            "needs_background": "light"
          }
        }
      ]
    },
    {
      "cell_type": "code",
      "metadata": {
        "id": "zCPnyNGoGpYR"
      },
      "source": [
        "# 2.1.2 The network architecture\n",
        "from tensorflow.keras import models\n",
        "from tensorflow.keras import layers\n",
        "model = models.Sequential([\n",
        "layers.Dense(512, activation=\"relu\"),\n",
        "layers.Dense(10, activation=\"softmax\")\n",
        "])"
      ],
      "execution_count": null,
      "outputs": []
    },
    {
      "cell_type": "code",
      "metadata": {
        "id": "ssTw5pN-HZYj"
      },
      "source": [
        "# 2.1.3 The compilation step\n",
        "model.compile(optimizer=\"rmsprop\",\n",
        "loss=\"sparse_categorical_crossentropy\",\n",
        "metrics=[\"accuracy\"])"
      ],
      "execution_count": null,
      "outputs": []
    },
    {
      "cell_type": "code",
      "metadata": {
        "id": "gE9u7auIJIR9"
      },
      "source": [
        "#2.1.4 Preparing the image data\n",
        "train_images = train_images.reshape((60000, 28 * 28))\n",
        "train_images = train_images.astype(\"float32\") / 255\n",
        "test_images = test_images.reshape((10000, 28 * 28))\n",
        "test_images = test_images.astype(\"float32\") / 255"
      ],
      "execution_count": null,
      "outputs": []
    },
    {
      "cell_type": "code",
      "metadata": {
        "colab": {
          "base_uri": "https://localhost:8080/"
        },
        "id": "fjMROhJQJkPX",
        "outputId": "8ba95224-2b08-4364-8611-2ead53cb14b9"
      },
      "source": [
        "#2.1.5 \"Fitting\" the model\n",
        "model.fit(train_images, train_labels, epochs=5, batch_size=128)"
      ],
      "execution_count": null,
      "outputs": [
        {
          "output_type": "stream",
          "text": [
            "Epoch 1/5\n",
            "469/469 [==============================] - 5s 10ms/step - loss: 0.2518 - accuracy: 0.9273\n",
            "Epoch 2/5\n",
            "469/469 [==============================] - 4s 10ms/step - loss: 0.1030 - accuracy: 0.9693\n",
            "Epoch 3/5\n",
            "469/469 [==============================] - 4s 10ms/step - loss: 0.0680 - accuracy: 0.9792\n",
            "Epoch 4/5\n",
            "469/469 [==============================] - 5s 10ms/step - loss: 0.0495 - accuracy: 0.9848\n",
            "Epoch 5/5\n",
            "469/469 [==============================] - 4s 10ms/step - loss: 0.0375 - accuracy: 0.9888\n"
          ],
          "name": "stdout"
        },
        {
          "output_type": "execute_result",
          "data": {
            "text/plain": [
              "<tensorflow.python.keras.callbacks.History at 0x7f217f234390>"
            ]
          },
          "metadata": {
            "tags": []
          },
          "execution_count": 11
        }
      ]
    },
    {
      "cell_type": "code",
      "metadata": {
        "colab": {
          "base_uri": "https://localhost:8080/"
        },
        "id": "szzQUyp_J6vX",
        "outputId": "2c31e6ee-bdd5-42cd-8b54-7b6e5bdc800d"
      },
      "source": [
        "#2.1.6 Using the model to make predictions\n",
        "test_digits = test_images[0:10]\n",
        "predictions = model.predict(test_digits)\n",
        "predictions[0] #Each number of index in that array corresponds to the probability i that digit imagetest_digits[0] belong to class i."
      ],
      "execution_count": null,
      "outputs": [
        {
          "output_type": "execute_result",
          "data": {
            "text/plain": [
              "array([4.1526438e-10, 1.3223322e-10, 1.3872458e-06, 2.9845824e-05,\n",
              "       8.1904714e-13, 9.1709706e-09, 3.6591959e-15, 9.9996793e-01,\n",
              "       1.6748153e-07, 6.9859487e-07], dtype=float32)"
            ]
          },
          "metadata": {
            "tags": []
          },
          "execution_count": 12
        }
      ]
    },
    {
      "cell_type": "code",
      "metadata": {
        "colab": {
          "base_uri": "https://localhost:8080/"
        },
        "id": "upoPRM8CKo5X",
        "outputId": "ede6aee5-0493-4b95-ac32-ec3c099a9aa7"
      },
      "source": [
        "print(predictions[0].argmax()) #Highest probability score position\n",
        "print(predictions[0][7]) #Probability score of number 7\n",
        "print(test_labels[7]) #Check label in 7th position"
      ],
      "execution_count": null,
      "outputs": [
        {
          "output_type": "stream",
          "text": [
            "7\n",
            "0.99996793\n",
            "9\n"
          ],
          "name": "stdout"
        }
      ]
    },
    {
      "cell_type": "code",
      "metadata": {
        "colab": {
          "base_uri": "https://localhost:8080/"
        },
        "id": "igYuweuLMRPn",
        "outputId": "82a51d73-e68f-4c02-987e-709f479fe933"
      },
      "source": [
        "# 2.1.7 Evaluating the model on new data\n",
        "test_loss, test_acc = model.evaluate(test_images, test_labels)\n",
        "print(f\"test_acc: {round(test_acc,4)}\") "
      ],
      "execution_count": null,
      "outputs": [
        {
          "output_type": "stream",
          "text": [
            "313/313 [==============================] - 1s 2ms/step - loss: 0.0665 - accuracy: 0.9795\n",
            "test_acc: 0.9795\n"
          ],
          "name": "stdout"
        }
      ]
    },
    {
      "cell_type": "markdown",
      "metadata": {
        "id": "hQLTV_XQT9eo"
      },
      "source": [
        "2.2 Data representations for neural networks"
      ]
    },
    {
      "cell_type": "markdown",
      "metadata": {
        "id": "wWZb9lE4UHHH"
      },
      "source": [
        "Data stored in multidimensinoal NumPy arrays are called tensors. Tensor is a container for data (usually numerical data). Tensors are a generalization of matrices to an arbitrary number of dimensions -*axis*"
      ]
    },
    {
      "cell_type": "code",
      "metadata": {
        "colab": {
          "base_uri": "https://localhost:8080/"
        },
        "id": "Rl66yeytSTEU",
        "outputId": "199855c2-1819-4bf7-ecac-3655ccfa35c5"
      },
      "source": [
        "#2.2.1 Scarlars (rank-0 tensors)\n",
        "x = np.array(12)\n",
        "x.ndim"
      ],
      "execution_count": null,
      "outputs": [
        {
          "output_type": "execute_result",
          "data": {
            "text/plain": [
              "0"
            ]
          },
          "metadata": {
            "tags": []
          },
          "execution_count": 24
        }
      ]
    },
    {
      "cell_type": "code",
      "metadata": {
        "colab": {
          "base_uri": "https://localhost:8080/"
        },
        "id": "PO2-v10IWk4A",
        "outputId": "fcec6143-f800-46ae-c826-b6452dd4e173"
      },
      "source": [
        "#2.2.2 Vectors (rank-1 tensors)\n",
        "x = np.array([12, 3, 6, 14, 7]) #5-dimensional vector\n",
        "x.ndim"
      ],
      "execution_count": null,
      "outputs": [
        {
          "output_type": "execute_result",
          "data": {
            "text/plain": [
              "1"
            ]
          },
          "metadata": {
            "tags": []
          },
          "execution_count": 25
        }
      ]
    },
    {
      "cell_type": "code",
      "metadata": {
        "colab": {
          "base_uri": "https://localhost:8080/"
        },
        "id": "YSenNYG7W2G3",
        "outputId": "bf93c725-8e44-4b65-e65d-4fe839b3de1d"
      },
      "source": [
        "#2.2.3 Matrices (rank-2 tensors)\n",
        "x = np.array([[5, 78, 2, 34, 0],\n",
        "              [6, 79, 3, 35, 1],\n",
        "              [7, 80, 4, 36, 2]])\n",
        "x.ndim"
      ],
      "execution_count": null,
      "outputs": [
        {
          "output_type": "execute_result",
          "data": {
            "text/plain": [
              "2"
            ]
          },
          "metadata": {
            "tags": []
          },
          "execution_count": 27
        }
      ]
    },
    {
      "cell_type": "code",
      "metadata": {
        "colab": {
          "base_uri": "https://localhost:8080/"
        },
        "id": "DD8rkSPObw0p",
        "outputId": "87917639-4648-4cf6-f099-cb317021c151"
      },
      "source": [
        "#2.2.4 Rank-3 tensors and higher-rank tensors\n",
        "x = np.array ([[[5, 78, 2, 34, 0],\n",
        "                [6, 79, 3, 35, 1],\n",
        "                [7, 80, 4, 36, 2]],\n",
        "               [[5, 78, 2, 34, 0],\n",
        "                [6, 79, 3, 35, 1],\n",
        "                [7, 80, 4, 36, 2]],\n",
        "               [[5, 78, 2, 34, 0],   \n",
        "                [6, 79, 3, 35, 1],\n",
        "                [7, 80, 4, 36, 2]]])\n",
        "x.ndim"
      ],
      "execution_count": null,
      "outputs": [
        {
          "output_type": "execute_result",
          "data": {
            "text/plain": [
              "3"
            ]
          },
          "metadata": {
            "tags": []
          },
          "execution_count": 28
        }
      ]
    },
    {
      "cell_type": "markdown",
      "metadata": {
        "id": "PSybiE7ndfcE"
      },
      "source": [
        "By packing rank-3 tensors in an array, you can create a rank-4 tensor, and so on. In deep\n",
        "learning, you’ll generally manipulate tensors with ranks 0 to 4, although you may go up to 5 if\n",
        "you process video data."
      ]
    },
    {
      "cell_type": "markdown",
      "metadata": {
        "id": "MmScyTpSfhyO"
      },
      "source": [
        "2.2.5 Key attributes"
      ]
    },
    {
      "cell_type": "markdown",
      "metadata": {
        "id": "cf8i4CYkfwXP"
      },
      "source": [
        "A tensor is defined by three key attributes:\n",
        "\n",
        "*   Number of axes (rank)—For instance, a rank-3 tensor has three axes, and a matrix has two axes. This is also called the tensor’s ndim in Python libraries such as NumPy or TensorFlow.\n",
        "*   Shape—This is a tuple of integers that describes how many dimensions the tensor has along each axis. For instance, the previous matrix example has shape (3, 5), and the rank-3 tensor example has shape (3, 3, 5). A vector has a shape with a single element, such as (5,), whereas a scalar has an empty shape, ().\n",
        "*   Data type (usually called dtype in Python libraries)—This is the type of the data contained in the tensor; for instance, a tensor’s type could be float16, float32, float64, uint8, and so on. In TensorFlow, you are also likely to come across string tensors.\n",
        "\n"
      ]
    },
    {
      "cell_type": "code",
      "metadata": {
        "id": "yxt_AG17hr0S",
        "outputId": "5e568375-f526-47ec-9850-38dcb885b845",
        "colab": {
          "base_uri": "https://localhost:8080/"
        }
      },
      "source": [
        "#Example\n",
        "from keras.datasets import mnist\n",
        "(train_images, train_labels), (test_images, test_labels) = mnist.load_data()"
      ],
      "execution_count": 1,
      "outputs": [
        {
          "output_type": "stream",
          "text": [
            "Downloading data from https://storage.googleapis.com/tensorflow/tf-keras-datasets/mnist.npz\n",
            "11493376/11490434 [==============================] - 0s 0us/step\n",
            "11501568/11490434 [==============================] - 0s 0us/step\n"
          ],
          "name": "stdout"
        }
      ]
    },
    {
      "cell_type": "code",
      "metadata": {
        "colab": {
          "base_uri": "https://localhost:8080/"
        },
        "id": "oHmzafT_i9Xx",
        "outputId": "26ac394c-a0bb-40b3-c9e0-331f254d6a0d"
      },
      "source": [
        "train_images.ndim"
      ],
      "execution_count": 2,
      "outputs": [
        {
          "output_type": "execute_result",
          "data": {
            "text/plain": [
              "3"
            ]
          },
          "metadata": {
            "tags": []
          },
          "execution_count": 2
        }
      ]
    },
    {
      "cell_type": "code",
      "metadata": {
        "colab": {
          "base_uri": "https://localhost:8080/"
        },
        "id": "wD7V4KOamGa7",
        "outputId": "a5df5095-ec3a-43e7-a440-7bc043d64c27"
      },
      "source": [
        "train_images.dtype"
      ],
      "execution_count": 3,
      "outputs": [
        {
          "output_type": "execute_result",
          "data": {
            "text/plain": [
              "dtype('uint8')"
            ]
          },
          "metadata": {
            "tags": []
          },
          "execution_count": 3
        }
      ]
    },
    {
      "cell_type": "code",
      "metadata": {
        "colab": {
          "base_uri": "https://localhost:8080/",
          "height": 282
        },
        "id": "2q_bSsqGnnZR",
        "outputId": "d4b6f2b8-9f67-4dee-d810-3570de8ba213"
      },
      "source": [
        "digit = train_images[4]\n",
        "import matplotlib.pyplot as plt\n",
        "plt.imshow(digit, cmap=plt.cm.binary)\n",
        "plt.show()\n",
        "print(\"The corresponding label is:\",train_labels[4])"
      ],
      "execution_count": 4,
      "outputs": [
        {
          "output_type": "display_data",
          "data": {
            "image/png": "[encoded data removed]",
            "text/plain": [
              "<Figure size 432x288 with 1 Axes>"
            ]
          },
          "metadata": {
            "tags": [],
            "needs_background": "light"
          }
        },
        {
          "output_type": "stream",
          "text": [
            "The corresponding label is: 9\n"
          ],
          "name": "stdout"
        }
      ]
    },
    {
      "cell_type": "markdown",
      "metadata": {
        "id": "XOw10MUkywG5"
      },
      "source": [
        "2.2.6 Manipulating tensors in Numpy"
      ]
    },
    {
      "cell_type": "markdown",
      "metadata": {
        "id": "XkuDnpSRy_Hq"
      },
      "source": [
        "Selecting specific elements in a tensor is called tensor slincing"
      ]
    },
    {
      "cell_type": "code",
      "metadata": {
        "id": "UVqM8gf0zWBM",
        "outputId": "77ba9c2d-ac06-4324-dcda-697feb1b02c4",
        "colab": {
          "base_uri": "https://localhost:8080/"
        }
      },
      "source": [
        "#Select digits #10 to #100 and puts them in an array of shape (90, 28 , 28)\n",
        "my_slice = train_images[10:100]\n",
        "print(my_slice.shape)"
      ],
      "execution_count": 6,
      "outputs": [
        {
          "output_type": "stream",
          "text": [
            "(90, 28, 28)\n"
          ],
          "name": "stdout"
        }
      ]
    },
    {
      "cell_type": "code",
      "metadata": {
        "id": "_eDQZ5WRzqBW",
        "outputId": "721b127d-4dc3-4648-ecb8-f92049786b67",
        "colab": {
          "base_uri": "https://localhost:8080/"
        }
      },
      "source": [
        "#Equivalent and detailed notation\n",
        "my_slice = train_images[10:100, :, :]\n",
        "print(my_slice.shape)\n",
        "my_slice = train_images[10:100, 0:28, 0:28]\n",
        "print(my_slice.shape)"
      ],
      "execution_count": 7,
      "outputs": [
        {
          "output_type": "stream",
          "text": [
            "(90, 28, 28)\n",
            "(90, 28, 28)\n"
          ],
          "name": "stdout"
        }
      ]
    },
    {
      "cell_type": "code",
      "metadata": {
        "id": "u1nvzXmL0Xya",
        "outputId": "739af262-b752-4b30-ffbb-637e2fa52375",
        "colab": {
          "base_uri": "https://localhost:8080/",
          "height": 547
        }
      },
      "source": [
        "#Select 14x14 pixels in the bottom-right corner of all images\n",
        "my_slice = train_images[:, 14:, 14:]\n",
        "digit_ex1 = my_slice[5]\n",
        "plt.imshow(digit_ex1, cmap=plt.cm.binary)\n",
        "plt.show()\n",
        "print(\"The corresponding label is:\",train_labels[5])\n",
        "#Crop the images to patches of 14x14 pixels centered in the middle\n",
        "my_slice = train_images[:, 7:-7, 7:-7]\n",
        "digit_ex2 = my_slice[34]\n",
        "plt.imshow(digit_ex2, cmap=plt.cm.binary)\n",
        "plt.show()\n",
        "print(\"The corresponding label is:\",train_labels[34])"
      ],
      "execution_count": 8,
      "outputs": [
        {
          "output_type": "display_data",
          "data": {
            "image/png": "[encoded data removed]",
            "text/plain": [
              "<Figure size 432x288 with 1 Axes>"
            ]
          },
          "metadata": {
            "tags": [],
            "needs_background": "light"
          }
        },
        {
          "output_type": "stream",
          "text": [
            "The corresponding label is: 2\n"
          ],
          "name": "stdout"
        },
        {
          "output_type": "display_data",
          "data": {
            "image/png": "[encoded data removed]",
            "text/plain": [
              "<Figure size 432x288 with 1 Axes>"
            ]
          },
          "metadata": {
            "tags": [],
            "needs_background": "light"
          }
        },
        {
          "output_type": "stream",
          "text": [
            "The corresponding label is: 0\n"
          ],
          "name": "stdout"
        }
      ]
    },
    {
      "cell_type": "markdown",
      "metadata": {
        "id": "bVpU5YRa2E1z"
      },
      "source": [
        "2.2.7 The notion of data batches"
      ]
    },
    {
      "cell_type": "markdown",
      "metadata": {
        "id": "-4wdo2942Ixf"
      },
      "source": [
        "In general the first axis in all data tensors will be the sample axis (samples dimension). In MNIST samples are images of digits.\n",
        "\n",
        "DL models don't process an entire dataset at once; they break the data into small batches."
      ]
    },
    {
      "cell_type": "code",
      "metadata": {
        "id": "tM9wb0lm5MaX"
      },
      "source": [
        "#Batch size of 128\n",
        "batch = train_images[:128]\n",
        "# n-th batch\n",
        "n = 3\n",
        "btch = train_images[128 * n:128 * (n+1)]"
      ],
      "execution_count": 9,
      "outputs": []
    },
    {
      "cell_type": "markdown",
      "metadata": {
        "id": "W3TAvPa15prh"
      },
      "source": [
        "When considering suach a batch tensor, the first axis is called batch axis or bath dimension."
      ]
    },
    {
      "cell_type": "markdown",
      "metadata": {
        "id": "YA4Aw75a6d3c"
      },
      "source": [
        "2.2.8 Real-World examples of data tensors"
      ]
    },
    {
      "cell_type": "markdown",
      "metadata": {
        "id": "MlE2JMTs6phN"
      },
      "source": [
        "\n",
        "\n",
        "*   Vector data -- rank-2 tensor of shape (sample, features) : Each sample is a vector of numerical attributes ('features')\n",
        "*   Timeseries data or sequence data -- rank-3 tensors of shpe (samples, timesteps, features): Each sample is a sequence (of lenght 'timesteps') of feature vectors\n",
        "![Screenshot 2021-08-09 215336.png](data:image/png;base64,iVBORw0KGgoAAAANSUhEUgAAApAAAAEBCAYAAADPZ5UrAAAAAXNSR0IArs4c6QAAAARnQU1BAACxjwv8YQUAAAAJcEhZcwAADsMAAA7DAcdvqGQAACZZSURBVHhe7d0NkFXlnefxx0CkSgpqsMTBondR25oZmPEFMxGS6OIuL+6oaAmdUWEyQtcKsqNIIooGJRuUjIhVaUBFTGxMXF9m0uCuRmeCLytiSaMZQY1NzNA67jZKAgMjTmNIsNj7e/r8m6cP596+p/ve7vvy/VSdOueet3vOQS8/npfzHHckwwEAAAB5+kI0BwAAAPJCgAQAAEAqBEgAAACkQoAEAABAKgRIAAAApEKABAAAQCoESAAAAKRCgAQAAEAqBEgAAACkQoAEAABAKgRIAAAApEKABAAAQCoESAAAAKRCgAQAAEAqBEgAAACkctyRjGgZQA+ccepp0RIAlLdx48e7x558IvoEZEeABHrJAuTm5mY/B4By89bb77jr51xLgETeqMIGAABAKgRIAAAApEKABAAAQCoESAAAAKRCgAQAAEAqBEgAAACkQoAEAABAKgRIAAAApEKABAAAQCqMRAPksKqhITOtjD4BQPm6eOpUd9vixdGnrhiJBmkRIIEcLEDOuX6++8ZfzYjWAkB5WbToVvcHQ4cQIFEwVGEDAAAgFQIkAAAAUiFAAgAAIBUCJAAAAFIhQAIAACAVAiQAAABSIUACAAAgFQIkAAAAUuFF4qhqW5ubo6VkG5rWu/VNTe6KK69yEydOjNYCQGkZPHiwO6P29OjTsXiROAqNAImqdsapp/n5fxh1qp8DQDn5/PPP3Udt/899dcKFbvnyu6O1xyJAotAIkKhqFiA3d1MSCQClaPevf+2+fvnlBEj0OdpAAgAAIBUCJAAAAFIhQAIAACAVAiQAAABSIUACAAAgFQIkAAAAUiFAAgAAIBUCJAAAAFLhReKoWBqCcFdbW/Qp2aqGlX4+5/r5fg4ApWjypIluxIg/jD4dxYvE0V8IkKhYM6+62n308W538h8e+6MLAOWgdedO92/7/tXd99AP3NlnnRmtPYoAif5CgETFUoA8+8/Pc9/4qxnRGgAoLwp+r216mQCJkkMbSAAAAKRCgAQAAEAqBEgAAACkQoAEAABAKgRIAAAApEKABAAAQCoESAAAAKRCgAQAAEAqvEgcJWNrc7OfDx061I0eM8YvZ7OqoSFaym5D03r3H2vPcH925lnRGgAoPSeffLK7aMqk6FNXvEgcpYoAiT536NAhP0a1Al5ra6tryyy/n5kPGjTIh8dzxo51DatXRXsnO+PU0/z8S+eN83MAKDft7e3ul+/+Imf4I0CiVBEg0WcOHDjgli29061vaorWOF/SOHnKZDervt6Hx3xZgNwclVoCQLmx0EaARDmiDST6xPMbN7oLz7+gMzxOr6tzzzz3rJ/mL1iQKjwCAID+RYBE0anUcd6cub4EUiWO+tft8ntXdNvOEQAAlCYCJIpq0cKb3brGRr88u77elziqigQAAJQvAiSKRh1jrMpaJY6Ll9zhlwEAQHkjQKJo7lp6p58rPKrNIwAAqAwESBTFjpYW98qmTb7UkfAIAEBlIUCiKG5ZeLOrra317R4BAEBlIUCi4NTuUSWQl0ydGq0BAACVhACJglvdsNLPp9VN93MAAFBZCJAoKL0wXEMT6sXgp4wYEa0FAACVhACJglq75kE/v/07S9yAgQP9MgAAqCwESBTM1uZmt33bNldTU+OmTaf6GgCASkWARMG0tLT4OUMUAgBQ2QiQKJhPDxzw89FjRvs5AACoTARIFMyOlh1+PrKmxs8BAEBlIkCiYA5EJZBqAwkAACoXARIAAACpECABAACQCgESAAAAqRAgAQAAkAoBEgAAAKkQIAEAAJAKARIAAACpECABAACQCgESAAAAqRAgAQAAkAoBEgAAAKkQIAEAAJAKARIAAACpECABAACQCgESAAAAqRAgAQAAkAoBEgXzfmurn580fLifAwCAykSAREHsaGlxe/bscUOHDnW1tbXRWgAAUIkIkCiI5uZmPx83fryfAwCAypU6QK5vanIzr7o61aRjSsmBAweiJRTKhqb1fn7e+HF+DgAAKlfqALmrrc1tbW5ONemYUqBqVgVazVE4bZk/X3um0+vq/BwAAFSuXlVhjx4zxldZdjeNrKmJjug/KgWdevElPtCisFY3rPTzyVOm+DaQAACgsvUqQN6+5A732JNPdDuVQqlUqZSCVhqVPloThVn1s/0cAABUNjrRoFcWLbzZz620GQAAVL5+D5CfHz7sq5V72i7R2lmWUrtGlcodbG+PPiXT9eq603bo2b5tmz9/KVjV0ODvQdXWy+9dEa0FAACVrl8DpKo+z//KV33HFrVPPOPU09y8OXN9KMlGgUvBxfa3nt7Zjtey1q+K2umJ9rdjxfaxz0lsn/i16VrsWF2b5heef4H78rlfcs9v3Bjt1UHBTyV25551tr9e7atlXXOuIGnH6Xvqrpjmz2/Hxa+nr+jPzp7pDQtudDUl0M4VAAD0jX4JkBa0FIr08umQQpe2Jb36R6V6l2WCl4JLthJHO37/vn3Rmr4TBrpDhw75udH96No1j4dFu+akEKn7tONC2jfXsyomXdOypXf6ZbVvnV1f75cBAEB16FWA3LzpFR8mck1xCj5fv2KaD1rqxf3a61vdzn/5wE9vvv2Wu33JEjd8+HAfLpcsvj06qsPGTGBSaZza2r265TX33s5/7jz23fd+6V5+dbM/p/yfl17yc+2r7fMX3Og/izr2aJ3mhaL70VB+Ny9a5K9j44sv+F7JsnbNg/5+FCoVtra88Xrndesevr+qIxBfNHFSl0Ct6n0rnbx06lT/fOw4nUPrRM8pKXwWmq7nfz31lC89Vc/6O7+3jKprAACqUK8C5INr1vgwkWuKU5BqzQQttZtTgDv55JOjLc6vU0/ehYtu8Z8ff+yxLtXAn332mQ+ECi0jTjnFDRg4MNri3KBBg3w16uQpk/3nrc1b/bwv6brnzrvOX8fp0XB+CoYrli/3y9q2eMkdPiAb3cPUyy7zxyg81l8zK9ri3Me7d3e2dzy99vQur8jROfR9eoZNT22I1haPSjknXvif3cJvfsuH4Geee9ZdPWNGtBUAAFSTXgXIfN4DGWdVvDo2DEQhK7mTsBRTgUWBKVt7O5XC7WrbFX3qe0n3a0P8SdJ2Y/cc3q/u056Rqu0VvuPbdc5cz7I39DzXNTb6Npf6boVZhUeFYAAAUL16FSDzeQ9knFW16r2Mar+XNKna1iSVJOocCqIKN+rEov1V2qmOJX3dHjCUFGw/DaqWFQKT7ldTWNJqIVvCsKZ7031qf927lU72lvWE16TvUPtGe55a1vcooKoZwK3fvi06CgAAVKs+7UQTlp4plFhoSZqSKOioJEwlYgpRCjcKZQpfdu5spZP9ZUfLjmipIxhmm7KFQXVSURC3tp2i/XXv9hz0uTe2b9/eGWT1fBVOw+epJgNq1zl/wYIuzQYAAEB16tMAOSSoZrVg1N2kUk7z6I8f9SVkVoqp6ludRyVj2ledS6bVTffbSkVYtRy/t2xTGBZF96k2hwpxqkIOz6nwqOAXlmCmddLw4f47wvMaBdsNTet7dX4AAFBZ+jRAhqWDCisKLd1NYZiyEKPQqB7JClsqHVPJmPYtRSNrRkZL+Y8dnhTkRM9PVdq69zUPre3SVtTeydgTo0aN8s/SenkrrOp77PwKqVbya+EdAABUrz4NkGKBMFeJlkJKR/V0Q5dqb70mx6pUs4WsnnSiyXauUEtwHWkkBeAkKlnV/YYlrCr90zqFtziFO4VIO3/4nHpL51RJp86vUKkSXj0jXY9ewUSIBACguvV5gLTX7CiMqK1dkkcy6zs6yKzsEtz0mpuwGjxOwSZbSNN7C7uTK4SpGrcnwhLF1Zn7SQpfattp7Tm1j+2vkj+tU6jMdl+2r80LTedVCa9Vn+sVTKoyL2RgBQAA5aXPA+SsoA2fwlJ8xJiOkriO6liVNqq62uizgktSpxEFUgWbbKVjYfV5vDTxhMGD/VzHxkv7bF1PA5PuVe+2FF2jzhW/RrXttHUaFtColNGelfWGDulZ2bMIq7OLQdehau0ZM2f6Z0GIBACgevV5gFQQUXs7zRWaLr7ov/pqWk16dYwFOG1XFWronLFj/dx6C9txeo2P2ucp0KjET+IhzYKYKIxpXGl70fmIESM6tyuUWe9mTfZqoDDIpqUSPDteJYk6v12/5vaice0Tfo+uyV7jo/Co4zTqTNKzCl/3U0zf+e7/8FXcer6ESAAoH++//4F79H8+nji9+OKL0V5Afvo8QIoCiEKkwp6qpVXiqMnCiNYn9UZWSAqDnh2nUKYSRgVOC6fx0jqdKx4C7fs0io2OtVJKHauSPSvdU9Vtb4fs6+js09GWUOHLrl9z0bak79A1h20+NTpP/Fk9/dyznduLTa/xsT8b3cctmRAbD+sAgNLzy3d/4R66b1Xi9NTfPRntBeTnuCMZ0XJeNJ6zJhl8wgm9fi+gqrDbDx70ywMHDPBByKqUk6i94L79+zuvQXRMGKAOtre7w59/nhiqtE2BR9t1/cNOPDHa0iF+PdqugCk6Ln7P4fPIJ8Tp+nUe+w45cdiwnPdscl1bX9N93P29v/VtVWtra92TP/n7Y55lMakEWTYnNGcAgHLw1tvvuOvnXOu+OuFCt3z53dHarhYtutW9tulld99DP3Bnn3VmtPao3b/+tfv65ZfnPIfoPAPdEbd02V3RmmT6OyUcbhfIJnUJpP7jssBWiJdKK3So5E+TxrfuLkjpO/Uftx2jKR7cdI5sYU7b9D06LinwxK8nDGhJ9xw+j3zo+PA7NOUTHiXXtfU13YdKhFVyqo41V1x2ebQFAFCK4n93Jk2ER+SrX6qwUTmsU5Sq/a06HgAAVDYCJHpF4dF6jqtXPQAAqHwESPSaOvpYKSS9sgGgeqhtPh0pqxMBEr2m8GjvoezpC9cBAOXngfvu9690I0RWHwIkCuK88eP8vKdDPgIAypNqnvQ+ZlQXAiQKwl7gnjRKEACgMn3zpm/5uX77sw25i8pEgERB6PUPqsqW+EvcAQCVSa+h0+vcRINcoHoQIFEwNnLQLgIkAPSpjz/6KHGIQpu0vVj0OjdRVTYdKasHARIAgDL3wT//KnGIQpu0vVjCjpTNNGOqGgRIAADKnGqAXn51c87p1m/fFu1deKPHjPbzT+mNXTUIkAAAlDmVAsaHJYxPScP3Aj1FgAQAAL2yq21XtIRqQYAEAAC9Yq9ws1e6ofIRIAEAQI+tb2ryr29TNToBsnoQIAEAQI98fviwWx29/3FW/Ww/R3UgQAIAgB751a9+5Usf1UnH3geJ6kCABAAAPXLLwpt91fWah9Z2jkaG6kCABAAAqS3KhEeNPLP83hWdI5GhehAgAQAocQ+tXesWLbr1mGn53cujPfqWwqM6z2gEGhuFBtWFAAkAQIl7+59+7l7b9PIx08+3vBbt0XdWNTT48ChLl93l56g+BEgAAEpcw+pV7s2338o6/eDhH0Z7Fs+ePXvcvDlzMwFypTtn7Fi35Y3X3fDhw6OtqDYESAAASpyCmjqpZJtOGDw42rM4VOL4lS+f557fuNFNr6tzTU9tIDxWOQIkAADISqPMqM2jKDyq0wxAgAQAAInUy1rV1kJ4RIgAiYLRi2TFxkQFAJSvAwcO+PCouV7TQ3hEiACJghlZMzJaAgCUu0caGztHmXnsySeitUAHAiQKxl4ku7V5q58DAMrXI43r/PyGBTf6jjpAiACJgjkaIKnCBoBypt9xVV2r9FFtH4E4AiQKRj801g5Sr3oAAJQnKwgYN368nwNxBEgUlA1ptaFpvZ8DAHLTiDIXZIJa0qRt/Ym27ciGAImCuqZ+tp+rBPLQoUN+GQAAVBYCJApKVdi3L1nil//huef8HACQnaqJd/7LBzmnvq5KPn7QID/fu2evnwNxBEgU3Kz62W52fb1bfOttvhE2AKC8TJgwwc9/+swz/I4jEQESRaHXPgzK/At25lVXR2sAAKVKI86sa2x0qxoa/NTc3Oxf3aPwqPdBAnHHHcmIloGCWrb0Tv+DVIzhr8449TQ/38wrgwCUqbfefsddP+daXz3dXy/qXt/U5FY3rPQvDM9GQVLXZ69q66lXNm1y27dt88sjo7d2VFsvbwV1G9mn3N+tSYBE0ezft899+dwv+WX9SKx5aG3B/ochQAIod/0ZIBUYNUyhAo3ot1nXMXrMaP95R8uOzndBigKPfsPtVW1pqERTb+ZICqn6XjV7mlVfX/aBKh+qldNz1Z93uYdnqrBRNMNOPNGXPOpHQf/DXHbxJZ0/VgCA/qHfYfs91u/z/AU3updf3ewD4vwFC/ykZa3TNu2jfVWrlIbC59TM96xqyF7CqX20XcHKwirKAwESRaXqa/1LSz9A+gHRj4l+hPihAIC+p99hC2sqVXz6uWd9YNRvdJzWaZv20W/5pCmToy35UdW4FRrou5qe2tDZq/zNt9/yBQxWLa79aDNfXgiQKDr9QOhfsvaScbWLvPD8C3yQtB8XAEBxfX74sK+2tvCof9znUyWtfRT20gxpqO/Qb73Yd50zdqz/LAqnVsAQhki1yUR5IECiT+jHQlUi1u7DflxUIqkwuXbNg76aO1s1BwCgdx798aM+pCkQWs1QsYSFA2rjmO27tP6eoJPl681boyWUOjrRoF8oLD7SuC5xzOx8GpRbJxoAKHd90YlG/2i/aOIkP0JYWOpXLPqNtyppFR5YDVQ25551tu+ZPT7zLBYvuSNae5SuX+dUMN0ahUyFT3X6+W/XXutOGDzYrwupNHNXW5t/vppUQGE9zseNH+em1dV1KYHV+g2ZY3R+rdfr6JJKaHUdmnS9KkVV7/InHnvcX+OYzHNVVb++L0k+nWh0Hfq7cfOmV1xtba37k8w96vnlCvz6c127Zk3m+ezw16Hr1nF6nsX6syZAot/pf5QXNj7v/6fRj4NVd+RCgARQKfoiQKq25/3WVt8OsdjhUfRbru+U3t6faqsU/BSMkigsqZ1mPGBZWFNHIIW9pPb3VjWvsLlo4c3R2qOSqu473pW50t+Xzl1/zaxjhu7VNgXnbNeUFCB1bbpPq/oP6TwK1tmaEdRdMa3zFUlx2a6ltwiQAABUMAUjBSQ/QlhC6V6xqHmSCgZEIea+B+73b+dIw8KaKCiqJG7I0CH+8662Xb4AQsFLwUphL2RhTYHZqtT1DLR/2NZSIVDfoYCl84+sGemefeanrjUTuEVt+MOSSLsmrdO5FE51Di3rdUX6TrHCkDC45QqQCtx2nTr3tLrp7tMDn/pr1bmlu0CrklUTvjpJ2wr+jxQFSAAAUFlad+48culfXHykdtSpR667ds6Rw4cPR1v6Rvu///uRu7679MiEr53vr0GTlmdcedWRW25aeKR5y5Yj77333pHf/OY30RFdbXvzzSNj/uiP/XE6z+Hf/z7acpTWTfkvE/0+n3zySbS2g77HvveOby/212M+/uijzm2aHnxgTZfzHzp0qHObrjW08vvf79ym5/u73/0u2tJB57Z7nv3X10RrO9g16d6Nvlf7ab2O059bSNvXPdzY+Z2ZQBlt6XjGekY6bxLdl86pZ7Qzdt7eohMNAAAVRtW1UyZO8iVaKrVSFeaAAQOirX1D7RJV4qkSvGeee9aX7qlETCVwKlVTadzFUy5yX/nyeb600krujHptb3njdV9ypvMMGDgw2nKU1p00fLhfttK7JEuX3dWlneSIU07prMpXad/cedd1Of/xxx/fWepopXhJ9Fy/+MUvRp866NxqPylqHxm/r7iXXnrJ7ye6z9Nra/2y0XWpI5K1I82EaT8X3ZOqz9U8Iek6dV96/j978QXfnrKQCJAAAFQQhTNrR5dU5dkfFNYUtvT+R811TWG1sMKPVe+GVP0br+oVhUVVX+fzOrik48WqllUFnSTbeqPjw3sIheu7C5Dh9auqWvsnTXa92icMi7q/PXv2+BBu71rW/sVGgAQAoIQpMKgdY66SMKP2cNYZJFeni/6iEKSSNAVblYzF2wImdWTRfeu+FDDVW1udKBWU9E5LBWVrH9jXcnVGyrUtTu0cje5f95k0he021bvcKJBbYFUY1TPR/npWOl+xwiQBEgCAEqaeuQoPGn5QQSopSGq7QpV1OFFnEU39KV5SlsQ6d1iI1P5h4NF9qWRN96X1YVjUMeq8kias9RUrLcxHS1ACqXvKZwrPr+Wnnv7f/h8L4Xo9Kz0/C6CFDtoESAAAStg19bN9aFAAUJCyqkoLBiqRU0mTSp8UIFQi1Ze9reMUAnVNKgH7UeO6aG1uauNnLEBqbiWSui8FYoVNlVxqOEQtZxuGsb+lKfULe07rnvKZ4qFZvdtVqqsmAmpvqj//cB9dj6q2C4kACQBACVP1pEKDAoJ1pFBYVCiwoKJ9VBqncGX79Jew/V/SYBFJwhA4JFrWYBNG969QpCAdnr8/5QqJ8ZLSXOx+JVd7zlwliOF7KBUcFbYVJDXZs833zyJfBEgAAMqAqiitI0pYGqXQqKmUSuMsxKo0MunF2HF6Z6HR6CliAU0BLFc1tXog95dsoczuR38e3QVIu18JQ3Oc2nyqZFcl0BYmVUWtdfcuv8d/jtNzs2dHFTYAAFXMQolNpVIiF1JpqFHVqdpuZqOAqSAkYVi0MKxSuWzhR8epB3J/0b19fvhw9KmDrsmCZT6dmHS/FjJ1bFLJZrhe+9qz0dCJsi3LKDR6btbhJlcI7wkCJAAAKCiFFVW5G7Xd1HB7CpIKQporfKk0zdrmKRTdHrTdtFClEKS2kGGHHIVKrbM2kv1F13T39/7WL+s6dV9hu017H2R3dN8WCtWuVedRtbTOn+ucFj41jKH2CavAFWJ1LntuYagvBIYyBAAARaGSMwXE7qpPFYTuyQTOsJRMxygA5WoXqP1VCqfvUUBSNb7RsQqrCliq6o/r6XYFOuvtrhJGfXecSoXV3CC8H7Fz6nwWkI3uU9uzPSuFRx0XP6f2v2jipJwlsWoTWeiOVQRIAABQNKriVbjZvXt3l84eolCkkWSGR6PJxOnYjzPH7c0cHx4bHvfbzz5zH3zwgRs0aFCXUVw+/PBDd7C93Y/WMmrUqGjtUT3dHgZI9QbfuXOn+9e9e/1nXYOu65QRIxJHzrFz6nzhyDjG7vff9u937Zn9ZHBmvz8YNizrOUUh8v9mzm3HyMDMvsMyx+l69LwKjQAJAACQp3iArFa0gUTFUNG/eqOpegAASpl+qzQB5YoAiYrTXVsbAADQOwRIVAx7m3+uBtcA0N+sliTeGQIoJwRIVJxdbbuiJQAoPVZLUoyODSg+9Z7u6PFd2NfilBsCJCqGvRIhHJgeAErN681b/TwcAxnloyNALujyyqBqRIBExbDqIFVhhy+cBYBSYqOUUIWNckaARMVQdZCNv1roQeMBoBDCf+DGXyQNlBMCJCrKpCmT/fxHOQakB4D+8kj026QRTGgDiXJGgERFUQmkfpT1L/z+HGAfAOLUecZqR6bVTfdzoFwRIFFRFB4bVq/yw0k98/TT0VoA6F8aos7GOVbnC6qvUe4IkKg4/2nCBB8iv3fnXYxKA6Ak3H/f/b794+z6+qp//QsqA2Nho2JNvfgSt6utzT325BP0dgTQb1TqeNHESe6k4cP97xFtH1EJKIFExVIjdf1wq9qI0WkA9Af7DdL8nntXEB5RMQiQqFjf+Otv+JJH+wHn1T4A+pI689k/YGfMnElNCCoKVdioaPESSLU/umHBjZQCACiqdY2NbnXDSv8bpN+bV7e85k4YPDjaCpQ/AiSqwrKld/ofdNGP+eIld/gqbgAoJHXcW5UJjtaBT6WOax5a62pqavxnoFIQIFE19IO+aOHNnaNAKEgqROp9bFQtAegp/aaoiYwGMAh/X2bVz6768ZJRuQiQqDrrm5p81ZL90Ettba1//c+QoUOiNagUxw8a5MaOHetG1tT0eSmQqi/VfKIlM32aWUZl2dW2y//DNPwtUXDUgAaq5dAyUKkIkKhaKjF4YePzfq6/6FH59Be6XuCsIS+L1YRBgcL+uwqDBSqbQqP+u7LRsIBKR4AEMrZv2+Ze2bQp+oRKsnfPXtfa2trZJs3oL3lVMc6qry/IX/hJJdui5hFjMtPImpHRGlSKIZn/bvRny6gyqEYESABV42B7u9uzd6/bv2+fe6RxnQ+VKn1WAPjWwpvcmD/9U/eFL+T/drMPP/zQPbD6Pl/aeOjQIXfO2LH+XJdOvdQNGzbMDTvxxGhPAKgsBEgAVS183Ype86S2a/lQAL1r6VK/zOuhAFQbAiSAqqdq53lz5rr3W1td01Mbuu2Vr7CpoelU6rj83hW+3RsAVBMCJABkhKEw1/jp2k8vp883bAJAJWIoQwDIUPXz3HnzOgOi5kn0LlGGpgNQ7QiQABAJx09XUIxTe0l1mJFv3vQtPweAakSABIDIgIED3T33rvDLCooWFkXtJNXZRtTRhnGNAVQzAiQABFQCOX/BjX5ZY6gb66mt1/So1zUAVDMCJADE2MvFVeqoF4TbXCxcAkA1I0ACQIzCo0apEb3vcUMUHlX6yKgjAECABIBEKoUU9bje0LTeL0+rm+7nAFDtCJAAkEClkPaCcFVh6/P0ujr/GQCqHQESALK4ZOql0ZJzl06dGi0BAAiQAJBFGBrDMAkA1Y4ACQAAgFQIkACQA8MVAsCxCJAAkMPkKZN9Zxpe3wMARx13JCNaBgAAALpFCSQAAABSIUACAAAgFQIkAAAAUiFAAgAAIBUCJAAAAFIhQAIAACAVAiQAAABSIUACAAAgFQIkAAAAUiFAAgAAIBWGMgTQI+ubmtyutrboUzoja2rc9Lq6znPYZwBAeSBAAuiRmVdd7bY2N0ef0hk3frx77MknOs9hnyvVE48/7q6eMSP6BADljypsACiiRQtvdmsfWBN9AoDKQAkkgII749TT/Ly7ksVqqMLWs6jJ3N/Lr26O1gBA+aMEEkC/UWicv2AB7R8BoMwQIAEAAJAKVdgACi7fKuwFN8x327dtc+eMHesaVq/y6/RZ6+W5n/2j++EPfuie37jRV3UfOHDADR061H31/K+5e1as8Ps8cN/9btOmTV22q0p8woQJ7r9f/zfuhMGD/X5m/7597tEfP+q/5/3WVtcW9SRXNfOfnXWm+853v+uGDx/u14UOtrf7a1GnH32XjtN+J2UmHfs3N1zvRo8e7QYMHOj3t3vTfgMGDnCnjDjFr9d96n5NeD2adA86n847NrPfnHnXJV7Phedf4JbfuyJzzPbO57Nnzx43aNAgf7y+Y27m2NNra6MjOiTdh9i9XD3janflVVd13gcAJCFAAii4fANkUi9sfdZ6URhUoFIV97S66X7dI43rfGAaPWaMD0Ci7ZOmTPb7bmha77dL/Pvj555VP9vvIwpSy5be6c+hYBavVldg0z46bvGSO3xI0766Hp1XdIyOlR0tLX67vk/hzAKyrlvnkPj12Hn1PasbVnaGu6Tr0TPWMfqOyVOmuPkLbvTn1r2H1zS7vt6f1yTdh4T3Et4HACRSgASAQqoddaqfZlx5VbQmmbbH92vesqXzeE1NP/lJtOWoCV87328be+ZZR1refTdae5SdV9Ph3/8+Wtv9cesebuzc/sknn0Rru16TluPs+3RcnNbre5Pkuh59/6V/cXHn9vB6ROs13XLTwmhNV+Ez+O1vf+vXdXcfomtKug8ACNEGEkDJUklYvORNVEUt2qZSt7hx48dFS861Hzzo5+rxbSV6KnlLOu4vr/xLP1dpnPY3LS0t0dLR7w6pJFMlgDqvjs1Hd9ejEsJ7olLA+PUYK0VMEpYg7t6928+7uw9RlXma+wBQnQiQAErWn4wZHS11ZdWu5wVBMZQUDl9v3hotdQTPJGovaed+YePzfi5jgvPNmzO3s4rcdFQhd/QmV6jLRz7Xo/tIuh6T6/t0nD2HT6Mw2N19yIyZM1PdB4DqRIAEULLCwJMkW8hJWm+lfdq2qqEh62TUhtGonaSFMa1X+Lpo4iS3rrGx87xp9eZ6TLaAbew5tLe3+3nSfagtpea9uRcA1YcACaAqWIcbVc2ualiZdbIQFa/CVWcclTSa1tZW3+lGnVKmXnxJYhVzLr29HrHSyWzCqnwTvw9RSaTdy5LFt0drASA7emEDKLhC9cLWOuslHdLwgAps2baH53jz7bd8Sdy5Z53tQ5hCl/Xo7o6qpeMU6BS4ftS47pgSO5Xu6Zr0fUbPQt8ZH4mmt9ej82a7f6NQqJLFpP3sPlQ1bj22TdJ9AEAXvisNABSQ9fQNe1cnsZ7C4X759BRWz+Nc28NzWO/lpO/qrY0/+5m/FvVatu9rfPjhaGsHrUvqhd3b69Gx+v5c7Dt+/sYb0Zrs7F7G/NEfJ94HAISowgZQFay6V6VtSdXBRts1haWL2l/rkjrPqLezSutMUmeXJL25HhN2xEli1eRDopLEbPchdi/WoSff+wBQnQiQAKpC2GP7kcbGaKmrQ4cO+apvTar+Naoy1zrNk1jHlCTZqoHzuR6FxqTrMQqC2cKntlnoHDZsmJ93dx9yydRLoyUAyI4ACaAqqGTtunnz/FB/6pyiEKWhDDWUoELY7o8/7hxCUYEwfI/i0mV3+dFktJ8CmHow6zhNOod6MYvCot4HGdK59u3f537xzjv+OA0lKEnX8/FHH3Vey9o1D7qvXzHN7xu/HmMBU+fVMIY6VusUNu1e9Fqek046yS8n3YcdZ/eiTjRJ9wEAITrRACi4UuxEY+z1NUlVwhIf+s+EoSuJQp5e/B0vjVRJoAVMUTALO8P09Hr0jLWtOXOvSdeke1bojPe47u4+FDAbf/TIMfcBACECJICCs/cXarQTa1OXRCFQ7fTC/RSkNkSvxJmWWWdtBUMKZQpA2baH55gblfLF6bvVhjAMbhpRJh644vTdah9ox+n7NQ53ruOeePxx99Onn/GhLhx/O6Tr0XkV8ESv4Ml2f6IAaWFUPa3DNou6Hj3PMDjHxe9D9F23fvs2N+zEE6M1AJCMAAkAZSgMkADQ12gDCQAAgFQIkAAAAEiFAAkAAIBUCJAAAABIhU40AFCG9Koi9V7P1ksbAIqJAAkAAIBUqMIGAABAKgRIAAAApEKABAAAQCoESAAAAKRCgAQAAEAqBEgAAACkQoAEAABACs79f7lwzSSwiIdLAAAAAElFTkSuQmCC)\n",
        "\n",
        "*   Images -- rank-4 tensors of shape (samples, height, width, channels): Each sample is a 2D grid of pixels, and each pixel is represented y a vector of values ('channels')\n",
        "![Screenshot 2021-08-09 215437.png](data:image/png;base64,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)\n",
        "\n",
        "*   Video -- rank-5 tensors of shape (samples, frames, height, width, channels): Each sample is sequence (of lenght 'frames') of images \n"
      ]
    },
    {
      "cell_type": "markdown",
      "metadata": {
        "id": "9pB55gXJ_YZh"
      },
      "source": [
        "2.3 The gears of neural networks: tensor operations"
      ]
    },
    {
      "cell_type": "markdown",
      "metadata": {
        "id": "FIhseXPu_jPT"
      },
      "source": [
        "All transformations learned by deep neural networks can be reduced to a handful of tensor operations (or tensor functions) applied to tensors of numeric data. It's possible to add tensors, multiply, and so on. "
      ]
    },
    {
      "cell_type": "code",
      "metadata": {
        "id": "HorfTw3iB2td",
        "outputId": "cb804488-08be-430d-ea12-b291b681ecee",
        "colab": {
          "base_uri": "https://localhost:8080/"
        }
      },
      "source": [
        "import numpy as np\n",
        "import tensorflow as tf\n",
        "from tensorflow import keras\n",
        "from tensorflow.keras import models\n",
        "from tensorflow.keras import layers\n",
        "keras.layers.Dense(512, activation='relu')"
      ],
      "execution_count": 12,
      "outputs": [
        {
          "output_type": "execute_result",
          "data": {
            "text/plain": [
              "<tensorflow.python.keras.layers.core.Dense at 0x7f3d4a8a1850>"
            ]
          },
          "metadata": {
            "tags": []
          },
          "execution_count": 12
        }
      ]
    }
  ]
}